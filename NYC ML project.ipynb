{
 "cells": [
  {
   "cell_type": "markdown",
   "id": "fa5213c5",
   "metadata": {},
   "source": [
    "#### I've provided with the NYC Taxi Trip Dataset. This dataset contains information about the taxi trips that took place in different parts of New York City and how much time did that trips take to complete.\n",
    "\n",
    "\n",
    "In this project, the following are the tasks I have to complete and submit\n",
    "\n",
    "1. Choose the most suitable evaluation metric and state why I chose it.\n",
    "2. Build a benchmark model for the given dataset.\n",
    "3. Build a K-Nearest neighbours’ model for the given dataset and find the best value of K.\n",
    "4. Build a Linear model for the given dataset with regularisation. Attempt to interpret the variable coefficients of the Linear    Model.\n",
    "\n",
    "5. Plot the following Bar plots:\n",
    "\n",
    "    -Train score of all the above models.\n",
    "    \n",
    "    -Test (not validation!) score of all the above models.\n",
    "    \n",
    "    -Attempt to explain the observations from the plots (optional)"
   ]
  },
  {
   "cell_type": "markdown",
   "id": "4701d5da",
   "metadata": {},
   "source": [
    "## Importing Libraries"
   ]
  },
  {
   "cell_type": "code",
   "execution_count": 1,
   "id": "9e4e495f",
   "metadata": {},
   "outputs": [],
   "source": [
    "import pandas as pd\n",
    "import numpy as np\n",
    "import matplotlib.pyplot as plt"
   ]
  },
  {
   "cell_type": "code",
   "execution_count": 2,
   "id": "d8e3f434",
   "metadata": {},
   "outputs": [
    {
     "data": {
      "text/plain": [
       "('1.2.4', '1.20.1')"
      ]
     },
     "execution_count": 2,
     "metadata": {},
     "output_type": "execute_result"
    }
   ],
   "source": [
    "pd.__version__, np.__version__"
   ]
  },
  {
   "cell_type": "code",
   "execution_count": 3,
   "id": "f216fb33",
   "metadata": {},
   "outputs": [],
   "source": [
    "import warnings\n",
    "warnings.filterwarnings('ignore')"
   ]
  },
  {
   "cell_type": "markdown",
   "id": "4b067319",
   "metadata": {},
   "source": [
    "### importing dataset"
   ]
  },
  {
   "cell_type": "code",
   "execution_count": 4,
   "id": "5932bf87",
   "metadata": {},
   "outputs": [],
   "source": [
    "data = pd.read_csv('EDA_NYC_Taxi .zip')"
   ]
  },
  {
   "cell_type": "markdown",
   "id": "747a3eef",
   "metadata": {},
   "source": [
    "since KNN model doesn't work well with a large dataset"
   ]
  },
  {
   "cell_type": "code",
   "execution_count": 5,
   "id": "29dd8f30",
   "metadata": {},
   "outputs": [],
   "source": [
    "data = data.iloc[0:50000,]"
   ]
  },
  {
   "cell_type": "code",
   "execution_count": 6,
   "id": "7818fec5",
   "metadata": {},
   "outputs": [
    {
     "data": {
      "text/html": [
       "<div>\n",
       "<style scoped>\n",
       "    .dataframe tbody tr th:only-of-type {\n",
       "        vertical-align: middle;\n",
       "    }\n",
       "\n",
       "    .dataframe tbody tr th {\n",
       "        vertical-align: top;\n",
       "    }\n",
       "\n",
       "    .dataframe thead th {\n",
       "        text-align: right;\n",
       "    }\n",
       "</style>\n",
       "<table border=\"1\" class=\"dataframe\">\n",
       "  <thead>\n",
       "    <tr style=\"text-align: right;\">\n",
       "      <th></th>\n",
       "      <th>vendor_id</th>\n",
       "      <th>passenger_count</th>\n",
       "      <th>pickup_longitude</th>\n",
       "      <th>pickup_latitude</th>\n",
       "      <th>dropoff_longitude</th>\n",
       "      <th>dropoff_latitude</th>\n",
       "      <th>trip_duration</th>\n",
       "    </tr>\n",
       "  </thead>\n",
       "  <tbody>\n",
       "    <tr>\n",
       "      <th>count</th>\n",
       "      <td>50000.000000</td>\n",
       "      <td>50000.000000</td>\n",
       "      <td>50000.000000</td>\n",
       "      <td>50000.000000</td>\n",
       "      <td>50000.000000</td>\n",
       "      <td>50000.000000</td>\n",
       "      <td>5.000000e+04</td>\n",
       "    </tr>\n",
       "    <tr>\n",
       "      <th>mean</th>\n",
       "      <td>1.534440</td>\n",
       "      <td>1.666700</td>\n",
       "      <td>-73.973444</td>\n",
       "      <td>40.750844</td>\n",
       "      <td>-73.973543</td>\n",
       "      <td>40.751698</td>\n",
       "      <td>9.815393e+02</td>\n",
       "    </tr>\n",
       "    <tr>\n",
       "      <th>std</th>\n",
       "      <td>0.498817</td>\n",
       "      <td>1.313425</td>\n",
       "      <td>0.038120</td>\n",
       "      <td>0.028125</td>\n",
       "      <td>0.035863</td>\n",
       "      <td>0.032293</td>\n",
       "      <td>9.190114e+03</td>\n",
       "    </tr>\n",
       "    <tr>\n",
       "      <th>min</th>\n",
       "      <td>1.000000</td>\n",
       "      <td>0.000000</td>\n",
       "      <td>-74.181648</td>\n",
       "      <td>40.298828</td>\n",
       "      <td>-74.366119</td>\n",
       "      <td>40.298828</td>\n",
       "      <td>2.000000e+00</td>\n",
       "    </tr>\n",
       "    <tr>\n",
       "      <th>25%</th>\n",
       "      <td>1.000000</td>\n",
       "      <td>1.000000</td>\n",
       "      <td>-73.991859</td>\n",
       "      <td>40.737209</td>\n",
       "      <td>-73.991425</td>\n",
       "      <td>40.736080</td>\n",
       "      <td>3.970000e+02</td>\n",
       "    </tr>\n",
       "    <tr>\n",
       "      <th>50%</th>\n",
       "      <td>2.000000</td>\n",
       "      <td>1.000000</td>\n",
       "      <td>-73.981766</td>\n",
       "      <td>40.754158</td>\n",
       "      <td>-73.979843</td>\n",
       "      <td>40.754385</td>\n",
       "      <td>6.610000e+02</td>\n",
       "    </tr>\n",
       "    <tr>\n",
       "      <th>75%</th>\n",
       "      <td>2.000000</td>\n",
       "      <td>2.000000</td>\n",
       "      <td>-73.967377</td>\n",
       "      <td>40.768337</td>\n",
       "      <td>-73.963371</td>\n",
       "      <td>40.769730</td>\n",
       "      <td>1.070000e+03</td>\n",
       "    </tr>\n",
       "    <tr>\n",
       "      <th>max</th>\n",
       "      <td>2.000000</td>\n",
       "      <td>6.000000</td>\n",
       "      <td>-73.653358</td>\n",
       "      <td>41.106907</td>\n",
       "      <td>-73.344200</td>\n",
       "      <td>41.106907</td>\n",
       "      <td>1.939736e+06</td>\n",
       "    </tr>\n",
       "  </tbody>\n",
       "</table>\n",
       "</div>"
      ],
      "text/plain": [
       "          vendor_id  passenger_count  pickup_longitude  pickup_latitude  \\\n",
       "count  50000.000000     50000.000000      50000.000000     50000.000000   \n",
       "mean       1.534440         1.666700        -73.973444        40.750844   \n",
       "std        0.498817         1.313425          0.038120         0.028125   \n",
       "min        1.000000         0.000000        -74.181648        40.298828   \n",
       "25%        1.000000         1.000000        -73.991859        40.737209   \n",
       "50%        2.000000         1.000000        -73.981766        40.754158   \n",
       "75%        2.000000         2.000000        -73.967377        40.768337   \n",
       "max        2.000000         6.000000        -73.653358        41.106907   \n",
       "\n",
       "       dropoff_longitude  dropoff_latitude  trip_duration  \n",
       "count       50000.000000      50000.000000   5.000000e+04  \n",
       "mean          -73.973543         40.751698   9.815393e+02  \n",
       "std             0.035863          0.032293   9.190114e+03  \n",
       "min           -74.366119         40.298828   2.000000e+00  \n",
       "25%           -73.991425         40.736080   3.970000e+02  \n",
       "50%           -73.979843         40.754385   6.610000e+02  \n",
       "75%           -73.963371         40.769730   1.070000e+03  \n",
       "max           -73.344200         41.106907   1.939736e+06  "
      ]
     },
     "execution_count": 6,
     "metadata": {},
     "output_type": "execute_result"
    }
   ],
   "source": [
    "data.describe()\n"
   ]
  },
  {
   "cell_type": "code",
   "execution_count": 7,
   "id": "2856c243",
   "metadata": {},
   "outputs": [
    {
     "data": {
      "text/plain": [
       "Index(['id', 'vendor_id', 'pickup_datetime', 'dropoff_datetime',\n",
       "       'passenger_count', 'pickup_longitude', 'pickup_latitude',\n",
       "       'dropoff_longitude', 'dropoff_latitude', 'store_and_fwd_flag',\n",
       "       'trip_duration'],\n",
       "      dtype='object')"
      ]
     },
     "execution_count": 7,
     "metadata": {},
     "output_type": "execute_result"
    }
   ],
   "source": [
    "data.columns"
   ]
  },
  {
   "cell_type": "code",
   "execution_count": 8,
   "id": "fb2fa124",
   "metadata": {},
   "outputs": [
    {
     "data": {
      "text/html": [
       "<div>\n",
       "<style scoped>\n",
       "    .dataframe tbody tr th:only-of-type {\n",
       "        vertical-align: middle;\n",
       "    }\n",
       "\n",
       "    .dataframe tbody tr th {\n",
       "        vertical-align: top;\n",
       "    }\n",
       "\n",
       "    .dataframe thead th {\n",
       "        text-align: right;\n",
       "    }\n",
       "</style>\n",
       "<table border=\"1\" class=\"dataframe\">\n",
       "  <thead>\n",
       "    <tr style=\"text-align: right;\">\n",
       "      <th></th>\n",
       "      <th>id</th>\n",
       "      <th>vendor_id</th>\n",
       "      <th>pickup_datetime</th>\n",
       "      <th>dropoff_datetime</th>\n",
       "      <th>passenger_count</th>\n",
       "      <th>pickup_longitude</th>\n",
       "      <th>pickup_latitude</th>\n",
       "      <th>dropoff_longitude</th>\n",
       "      <th>dropoff_latitude</th>\n",
       "      <th>store_and_fwd_flag</th>\n",
       "      <th>trip_duration</th>\n",
       "    </tr>\n",
       "  </thead>\n",
       "  <tbody>\n",
       "    <tr>\n",
       "      <th>0</th>\n",
       "      <td>id1080784</td>\n",
       "      <td>2</td>\n",
       "      <td>2016-02-29 16:40:21</td>\n",
       "      <td>2016-02-29 16:47:01</td>\n",
       "      <td>1</td>\n",
       "      <td>-73.953918</td>\n",
       "      <td>40.778873</td>\n",
       "      <td>-73.963875</td>\n",
       "      <td>40.771164</td>\n",
       "      <td>N</td>\n",
       "      <td>400</td>\n",
       "    </tr>\n",
       "    <tr>\n",
       "      <th>1</th>\n",
       "      <td>id0889885</td>\n",
       "      <td>1</td>\n",
       "      <td>2016-03-11 23:35:37</td>\n",
       "      <td>2016-03-11 23:53:57</td>\n",
       "      <td>2</td>\n",
       "      <td>-73.988312</td>\n",
       "      <td>40.731743</td>\n",
       "      <td>-73.994751</td>\n",
       "      <td>40.694931</td>\n",
       "      <td>N</td>\n",
       "      <td>1100</td>\n",
       "    </tr>\n",
       "    <tr>\n",
       "      <th>2</th>\n",
       "      <td>id0857912</td>\n",
       "      <td>2</td>\n",
       "      <td>2016-02-21 17:59:33</td>\n",
       "      <td>2016-02-21 18:26:48</td>\n",
       "      <td>2</td>\n",
       "      <td>-73.997314</td>\n",
       "      <td>40.721458</td>\n",
       "      <td>-73.948029</td>\n",
       "      <td>40.774918</td>\n",
       "      <td>N</td>\n",
       "      <td>1635</td>\n",
       "    </tr>\n",
       "    <tr>\n",
       "      <th>3</th>\n",
       "      <td>id3744273</td>\n",
       "      <td>2</td>\n",
       "      <td>2016-01-05 09:44:31</td>\n",
       "      <td>2016-01-05 10:03:32</td>\n",
       "      <td>6</td>\n",
       "      <td>-73.961670</td>\n",
       "      <td>40.759720</td>\n",
       "      <td>-73.956779</td>\n",
       "      <td>40.780628</td>\n",
       "      <td>N</td>\n",
       "      <td>1141</td>\n",
       "    </tr>\n",
       "    <tr>\n",
       "      <th>4</th>\n",
       "      <td>id0232939</td>\n",
       "      <td>1</td>\n",
       "      <td>2016-02-17 06:42:23</td>\n",
       "      <td>2016-02-17 06:56:31</td>\n",
       "      <td>1</td>\n",
       "      <td>-74.017120</td>\n",
       "      <td>40.708469</td>\n",
       "      <td>-73.988182</td>\n",
       "      <td>40.740631</td>\n",
       "      <td>N</td>\n",
       "      <td>848</td>\n",
       "    </tr>\n",
       "  </tbody>\n",
       "</table>\n",
       "</div>"
      ],
      "text/plain": [
       "          id  vendor_id      pickup_datetime     dropoff_datetime  \\\n",
       "0  id1080784          2  2016-02-29 16:40:21  2016-02-29 16:47:01   \n",
       "1  id0889885          1  2016-03-11 23:35:37  2016-03-11 23:53:57   \n",
       "2  id0857912          2  2016-02-21 17:59:33  2016-02-21 18:26:48   \n",
       "3  id3744273          2  2016-01-05 09:44:31  2016-01-05 10:03:32   \n",
       "4  id0232939          1  2016-02-17 06:42:23  2016-02-17 06:56:31   \n",
       "\n",
       "   passenger_count  pickup_longitude  pickup_latitude  dropoff_longitude  \\\n",
       "0                1        -73.953918        40.778873         -73.963875   \n",
       "1                2        -73.988312        40.731743         -73.994751   \n",
       "2                2        -73.997314        40.721458         -73.948029   \n",
       "3                6        -73.961670        40.759720         -73.956779   \n",
       "4                1        -74.017120        40.708469         -73.988182   \n",
       "\n",
       "   dropoff_latitude store_and_fwd_flag  trip_duration  \n",
       "0         40.771164                  N            400  \n",
       "1         40.694931                  N           1100  \n",
       "2         40.774918                  N           1635  \n",
       "3         40.780628                  N           1141  \n",
       "4         40.740631                  N            848  "
      ]
     },
     "execution_count": 8,
     "metadata": {},
     "output_type": "execute_result"
    }
   ],
   "source": [
    "data.head()"
   ]
  },
  {
   "cell_type": "code",
   "execution_count": 9,
   "id": "ab9a826c",
   "metadata": {},
   "outputs": [
    {
     "data": {
      "text/plain": [
       "(50000, 11)"
      ]
     },
     "execution_count": 9,
     "metadata": {},
     "output_type": "execute_result"
    }
   ],
   "source": [
    "data.shape"
   ]
  },
  {
   "cell_type": "code",
   "execution_count": 10,
   "id": "98bfc907",
   "metadata": {},
   "outputs": [
    {
     "data": {
      "text/plain": [
       "id                     object\n",
       "vendor_id               int64\n",
       "pickup_datetime        object\n",
       "dropoff_datetime       object\n",
       "passenger_count         int64\n",
       "pickup_longitude      float64\n",
       "pickup_latitude       float64\n",
       "dropoff_longitude     float64\n",
       "dropoff_latitude      float64\n",
       "store_and_fwd_flag     object\n",
       "trip_duration           int64\n",
       "dtype: object"
      ]
     },
     "execution_count": 10,
     "metadata": {},
     "output_type": "execute_result"
    }
   ],
   "source": [
    "data.dtypes"
   ]
  },
  {
   "cell_type": "code",
   "execution_count": 11,
   "id": "0b7a8646",
   "metadata": {},
   "outputs": [],
   "source": [
    "data['trip_duration'] = data['trip_duration'].apply(lambda x: x/3600)\n"
   ]
  },
  {
   "cell_type": "code",
   "execution_count": 12,
   "id": "8be57a94",
   "metadata": {},
   "outputs": [
    {
     "data": {
      "text/plain": [
       "id                    0\n",
       "vendor_id             0\n",
       "pickup_datetime       0\n",
       "dropoff_datetime      0\n",
       "passenger_count       0\n",
       "pickup_longitude      0\n",
       "pickup_latitude       0\n",
       "dropoff_longitude     0\n",
       "dropoff_latitude      0\n",
       "store_and_fwd_flag    0\n",
       "trip_duration         0\n",
       "dtype: int64"
      ]
     },
     "execution_count": 12,
     "metadata": {},
     "output_type": "execute_result"
    }
   ],
   "source": [
    "np.sum(pd.isnull(data))"
   ]
  },
  {
   "cell_type": "markdown",
   "id": "f0bd3506",
   "metadata": {},
   "source": [
    "## TASK 1"
   ]
  },
  {
   "cell_type": "markdown",
   "id": "54e62ce7",
   "metadata": {},
   "source": [
    "The most suitable evaluation metric for me is Root Mean Squared Error(RMSE) because RMSE is an extension of the mean squared error. The square root of the error is calculated, which means that the units of the RMSE are the same as the original units of the target value that is being predicted.\n",
    "Since the errors are squared before they are averaged, the RMSE gives a relatively high weight to large errors. This means the RMSE is most useful when large errors are particularly undesirable."
   ]
  },
  {
   "cell_type": "markdown",
   "id": "d355d2b9",
   "metadata": {},
   "source": [
    "## TASK 2: Benchmark Model\n",
    "#### Shuffling and creating train and test set"
   ]
  },
  {
   "cell_type": "code",
   "execution_count": 13,
   "id": "0908f747",
   "metadata": {},
   "outputs": [],
   "source": [
    "from sklearn.utils import shuffle\n",
    "\n",
    "# Shuffling the Dataset\n",
    "data = shuffle(data, random_state = 42)\n",
    "\n",
    "#creating 4 divisions\n",
    "div = int(data.shape[0]/4)\n",
    "\n",
    "# 3 parts to train set and 1 part to test set\n",
    "train = data.loc[:3*div+1,:]\n",
    "test = data.loc[3*div+1:]"
   ]
  },
  {
   "cell_type": "code",
   "execution_count": 14,
   "id": "114c02d6",
   "metadata": {},
   "outputs": [
    {
     "data": {
      "text/plain": [
       "50000"
      ]
     },
     "execution_count": 14,
     "metadata": {},
     "output_type": "execute_result"
    }
   ],
   "source": [
    "data.shape[0]"
   ]
  },
  {
   "cell_type": "code",
   "execution_count": 15,
   "id": "91b749a1",
   "metadata": {},
   "outputs": [
    {
     "data": {
      "text/plain": [
       "(33666, 11)"
      ]
     },
     "execution_count": 15,
     "metadata": {},
     "output_type": "execute_result"
    }
   ],
   "source": [
    "train.shape"
   ]
  },
  {
   "cell_type": "markdown",
   "id": "d61a12c1",
   "metadata": {},
   "source": [
    "#### Simple Mean (mean of trip_duration)"
   ]
  },
  {
   "cell_type": "code",
   "execution_count": 16,
   "id": "5e3e5be3",
   "metadata": {},
   "outputs": [],
   "source": [
    "# storing simple mean in a new column in the test set as \"simple_mean\"\n",
    "test['simple_mean'] = train['trip_duration'].mean()"
   ]
  },
  {
   "cell_type": "code",
   "execution_count": 17,
   "id": "90985528",
   "metadata": {},
   "outputs": [
    {
     "data": {
      "text/plain": [
       "0.8215135411141647"
      ]
     },
     "execution_count": 17,
     "metadata": {},
     "output_type": "execute_result"
    }
   ],
   "source": [
    "#calculating RMSE\n",
    "from sklearn.metrics import mean_squared_error as MSE\n",
    "\n",
    "simple_mean_error = np.sqrt(MSE(test['trip_duration'] , test['simple_mean']))\n",
    "simple_mean_error"
   ]
  },
  {
   "cell_type": "markdown",
   "id": "23f5cfd9",
   "metadata": {},
   "source": [
    "#### Mean trip_duration with respect to vendor_id"
   ]
  },
  {
   "cell_type": "code",
   "execution_count": 18,
   "id": "f5d6c3d7",
   "metadata": {},
   "outputs": [
    {
     "data": {
      "text/html": [
       "<div>\n",
       "<style scoped>\n",
       "    .dataframe tbody tr th:only-of-type {\n",
       "        vertical-align: middle;\n",
       "    }\n",
       "\n",
       "    .dataframe tbody tr th {\n",
       "        vertical-align: top;\n",
       "    }\n",
       "\n",
       "    .dataframe thead th {\n",
       "        text-align: right;\n",
       "    }\n",
       "</style>\n",
       "<table border=\"1\" class=\"dataframe\">\n",
       "  <thead>\n",
       "    <tr style=\"text-align: right;\">\n",
       "      <th></th>\n",
       "      <th>trip_duration</th>\n",
       "    </tr>\n",
       "    <tr>\n",
       "      <th>vendor_id</th>\n",
       "      <th></th>\n",
       "    </tr>\n",
       "  </thead>\n",
       "  <tbody>\n",
       "    <tr>\n",
       "      <th>1</th>\n",
       "      <td>0.265000</td>\n",
       "    </tr>\n",
       "    <tr>\n",
       "      <th>2</th>\n",
       "      <td>0.292327</td>\n",
       "    </tr>\n",
       "  </tbody>\n",
       "</table>\n",
       "</div>"
      ],
      "text/plain": [
       "           trip_duration\n",
       "vendor_id               \n",
       "1               0.265000\n",
       "2               0.292327"
      ]
     },
     "execution_count": 18,
     "metadata": {},
     "output_type": "execute_result"
    }
   ],
   "source": [
    "vend_id = pd.pivot_table(train, values='trip_duration', index = ['vendor_id'], aggfunc=np.mean)\n",
    "vend_id"
   ]
  },
  {
   "cell_type": "code",
   "execution_count": 19,
   "id": "3e7be46a",
   "metadata": {},
   "outputs": [],
   "source": [
    "# initializing new column to zero\n",
    "test['vendor_id_mean'] = 0\n",
    "\n",
    "# For every unique entry in vendor_id\n",
    "for i in train['vendor_id'].unique():\n",
    "  # Assign the mean value corresponding to unique entry\n",
    "  test['vendor_id_mean'][test['trip_duration'] == str(i)] = train['trip_duration'][train['vendor_id'] == str(i)].mean()"
   ]
  },
  {
   "cell_type": "code",
   "execution_count": 20,
   "id": "4f646ca4",
   "metadata": {},
   "outputs": [
    {
     "data": {
      "text/plain": [
       "0.8608422627335721"
      ]
     },
     "execution_count": 20,
     "metadata": {},
     "output_type": "execute_result"
    }
   ],
   "source": [
    "#calculating RMSE\n",
    "vendor_id_error = np.sqrt(MSE(test['trip_duration'] , test['vendor_id_mean'] ))\n",
    "vendor_id_error"
   ]
  },
  {
   "cell_type": "markdown",
   "id": "5445de62",
   "metadata": {},
   "source": [
    "#### Mean with respect to passenger_count"
   ]
  },
  {
   "cell_type": "code",
   "execution_count": 21,
   "id": "780a374a",
   "metadata": {},
   "outputs": [
    {
     "data": {
      "text/html": [
       "<div>\n",
       "<style scoped>\n",
       "    .dataframe tbody tr th:only-of-type {\n",
       "        vertical-align: middle;\n",
       "    }\n",
       "\n",
       "    .dataframe tbody tr th {\n",
       "        vertical-align: top;\n",
       "    }\n",
       "\n",
       "    .dataframe thead th {\n",
       "        text-align: right;\n",
       "    }\n",
       "</style>\n",
       "<table border=\"1\" class=\"dataframe\">\n",
       "  <thead>\n",
       "    <tr style=\"text-align: right;\">\n",
       "      <th></th>\n",
       "      <th>trip_duration</th>\n",
       "    </tr>\n",
       "    <tr>\n",
       "      <th>passenger_count</th>\n",
       "      <th></th>\n",
       "    </tr>\n",
       "  </thead>\n",
       "  <tbody>\n",
       "    <tr>\n",
       "      <th>0</th>\n",
       "      <td>0.186574</td>\n",
       "    </tr>\n",
       "    <tr>\n",
       "      <th>1</th>\n",
       "      <td>0.279315</td>\n",
       "    </tr>\n",
       "    <tr>\n",
       "      <th>2</th>\n",
       "      <td>0.269554</td>\n",
       "    </tr>\n",
       "    <tr>\n",
       "      <th>3</th>\n",
       "      <td>0.310019</td>\n",
       "    </tr>\n",
       "    <tr>\n",
       "      <th>4</th>\n",
       "      <td>0.285447</td>\n",
       "    </tr>\n",
       "    <tr>\n",
       "      <th>5</th>\n",
       "      <td>0.292101</td>\n",
       "    </tr>\n",
       "    <tr>\n",
       "      <th>6</th>\n",
       "      <td>0.273302</td>\n",
       "    </tr>\n",
       "  </tbody>\n",
       "</table>\n",
       "</div>"
      ],
      "text/plain": [
       "                 trip_duration\n",
       "passenger_count               \n",
       "0                     0.186574\n",
       "1                     0.279315\n",
       "2                     0.269554\n",
       "3                     0.310019\n",
       "4                     0.285447\n",
       "5                     0.292101\n",
       "6                     0.273302"
      ]
     },
     "execution_count": 21,
     "metadata": {},
     "output_type": "execute_result"
    }
   ],
   "source": [
    "p_count = pd.pivot_table(train, values = 'trip_duration', index = ['passenger_count'], aggfunc = np.mean)\n",
    "p_count"
   ]
  },
  {
   "cell_type": "code",
   "execution_count": 22,
   "id": "880e0201",
   "metadata": {},
   "outputs": [],
   "source": [
    "# Initializing empty column\n",
    "test['p_count_mean'] = 0\n",
    "\n",
    "# For every unique entry in passenger_count\n",
    "for i in train['passenger_count'].unique():\n",
    "  # calculate and assign mean corresponding to the uniques entries\n",
    "  test['p_count_mean'][test['passenger_count'] == str(i)] = train['trip_duration'][train['passenger_count'] == str(i)].mean()"
   ]
  },
  {
   "cell_type": "code",
   "execution_count": 23,
   "id": "0e6b9a31",
   "metadata": {},
   "outputs": [
    {
     "data": {
      "text/plain": [
       "0.8608422627335721"
      ]
     },
     "execution_count": 23,
     "metadata": {},
     "output_type": "execute_result"
    }
   ],
   "source": [
    "#calculating mean absolute error\n",
    "p_count_error = np.sqrt(MSE(test['trip_duration'] , test['p_count_mean'] ))\n",
    "p_count_error"
   ]
  },
  {
   "cell_type": "markdown",
   "id": "49a7b261",
   "metadata": {},
   "source": [
    "#### Mean trip_duration with respect to both vendor_id and passenger_count"
   ]
  },
  {
   "cell_type": "code",
   "execution_count": 24,
   "id": "757b8fec",
   "metadata": {},
   "outputs": [
    {
     "data": {
      "text/html": [
       "<div>\n",
       "<style scoped>\n",
       "    .dataframe tbody tr th:only-of-type {\n",
       "        vertical-align: middle;\n",
       "    }\n",
       "\n",
       "    .dataframe tbody tr th {\n",
       "        vertical-align: top;\n",
       "    }\n",
       "\n",
       "    .dataframe thead th {\n",
       "        text-align: right;\n",
       "    }\n",
       "</style>\n",
       "<table border=\"1\" class=\"dataframe\">\n",
       "  <thead>\n",
       "    <tr style=\"text-align: right;\">\n",
       "      <th></th>\n",
       "      <th></th>\n",
       "      <th>trip_duration</th>\n",
       "    </tr>\n",
       "    <tr>\n",
       "      <th>vendor_id</th>\n",
       "      <th>passenger_count</th>\n",
       "      <th></th>\n",
       "    </tr>\n",
       "  </thead>\n",
       "  <tbody>\n",
       "    <tr>\n",
       "      <th rowspan=\"7\" valign=\"top\">1</th>\n",
       "      <th>0</th>\n",
       "      <td>0.186574</td>\n",
       "    </tr>\n",
       "    <tr>\n",
       "      <th>1</th>\n",
       "      <td>0.266219</td>\n",
       "    </tr>\n",
       "    <tr>\n",
       "      <th>2</th>\n",
       "      <td>0.259187</td>\n",
       "    </tr>\n",
       "    <tr>\n",
       "      <th>3</th>\n",
       "      <td>0.266925</td>\n",
       "    </tr>\n",
       "    <tr>\n",
       "      <th>4</th>\n",
       "      <td>0.253807</td>\n",
       "    </tr>\n",
       "    <tr>\n",
       "      <th>5</th>\n",
       "      <td>0.266354</td>\n",
       "    </tr>\n",
       "    <tr>\n",
       "      <th>6</th>\n",
       "      <td>0.251444</td>\n",
       "    </tr>\n",
       "    <tr>\n",
       "      <th rowspan=\"6\" valign=\"top\">2</th>\n",
       "      <th>1</th>\n",
       "      <td>0.294086</td>\n",
       "    </tr>\n",
       "    <tr>\n",
       "      <th>2</th>\n",
       "      <td>0.277746</td>\n",
       "    </tr>\n",
       "    <tr>\n",
       "      <th>3</th>\n",
       "      <td>0.333949</td>\n",
       "    </tr>\n",
       "    <tr>\n",
       "      <th>4</th>\n",
       "      <td>0.307978</td>\n",
       "    </tr>\n",
       "    <tr>\n",
       "      <th>5</th>\n",
       "      <td>0.292220</td>\n",
       "    </tr>\n",
       "    <tr>\n",
       "      <th>6</th>\n",
       "      <td>0.273398</td>\n",
       "    </tr>\n",
       "  </tbody>\n",
       "</table>\n",
       "</div>"
      ],
      "text/plain": [
       "                           trip_duration\n",
       "vendor_id passenger_count               \n",
       "1         0                     0.186574\n",
       "          1                     0.266219\n",
       "          2                     0.259187\n",
       "          3                     0.266925\n",
       "          4                     0.253807\n",
       "          5                     0.266354\n",
       "          6                     0.251444\n",
       "2         1                     0.294086\n",
       "          2                     0.277746\n",
       "          3                     0.333949\n",
       "          4                     0.307978\n",
       "          5                     0.292220\n",
       "          6                     0.273398"
      ]
     },
     "execution_count": 24,
     "metadata": {},
     "output_type": "execute_result"
    }
   ],
   "source": [
    "combo = pd.pivot_table(train, values = 'trip_duration', index = ['vendor_id', 'passenger_count'], aggfunc = np.mean)\n",
    "combo"
   ]
  },
  {
   "cell_type": "code",
   "execution_count": 25,
   "id": "27945f95",
   "metadata": {},
   "outputs": [],
   "source": [
    "# Initiating new empty column\n",
    "test['Super_mean'] = 0\n",
    "\n",
    "# Assigning variables to strings ( to shorten code length)\n",
    "s2 = 'vendor_id'\n",
    "s1 = 'passenger_count'\n",
    "\n",
    "# For every Unique Value in s1\n",
    "for i in test[s1].unique():\n",
    "  # For every Unique Value in s2\n",
    "  for j in test[s2].unique():\n",
    "    # Calculate and Assign mean to new column, corresponding to both unique values of s1 and s2 simultaneously\n",
    "    test['Super_mean'][(test[s1] == i) & (test[s2]==str(j))] = train['trip_duration'][(train[s1] == i) & (train[s2]==str(j))].mean()"
   ]
  },
  {
   "cell_type": "code",
   "execution_count": 26,
   "id": "291924fc",
   "metadata": {},
   "outputs": [
    {
     "data": {
      "text/plain": [
       "0.8608422627335721"
      ]
     },
     "execution_count": 26,
     "metadata": {},
     "output_type": "execute_result"
    }
   ],
   "source": [
    "#calculating RMSE\n",
    "super_mean_error = np.sqrt(MSE(test['trip_duration'] , test['Super_mean'] ))\n",
    "super_mean_error"
   ]
  },
  {
   "cell_type": "markdown",
   "id": "7900eb7d",
   "metadata": {},
   "source": [
    "### TASK 3: KNN Regression\n",
    "### Segrigating variables: Independent and Dependent variables"
   ]
  },
  {
   "cell_type": "code",
   "execution_count": 27,
   "id": "655a6136",
   "metadata": {},
   "outputs": [
    {
     "data": {
      "text/plain": [
       "((50000, 2), (50000,))"
      ]
     },
     "execution_count": 27,
     "metadata": {},
     "output_type": "execute_result"
    }
   ],
   "source": [
    "#seperating independent and dependent variables\n",
    "x = data.drop(['id', 'pickup_datetime', 'dropoff_datetime', 'pickup_latitude', 'pickup_longitude', \n",
    "       'dropoff_longitude', 'dropoff_latitude', 'store_and_fwd_flag',\n",
    "       'trip_duration'], axis=1)\n",
    "y = data['trip_duration']\n",
    "x.shape, y.shape"
   ]
  },
  {
   "cell_type": "markdown",
   "id": "b8f81a66",
   "metadata": {},
   "source": [
    "#### Scalling the data (Using MinMax Scaler)"
   ]
  },
  {
   "cell_type": "code",
   "execution_count": 28,
   "id": "e2b48079",
   "metadata": {},
   "outputs": [],
   "source": [
    "# Importing MinMax Scaler\n",
    "from sklearn.preprocessing import MinMaxScaler\n",
    "scaler = MinMaxScaler()\n",
    "x_scaled = scaler.fit_transform(x)"
   ]
  },
  {
   "cell_type": "code",
   "execution_count": 29,
   "id": "0d955652",
   "metadata": {},
   "outputs": [],
   "source": [
    "x = pd.DataFrame(x_scaled)"
   ]
  },
  {
   "cell_type": "code",
   "execution_count": 30,
   "id": "57d0e184",
   "metadata": {},
   "outputs": [],
   "source": [
    "# Importing Train test split\n",
    "from sklearn.model_selection import train_test_split\n",
    "train_x,test_x,train_y,test_y = train_test_split(x,y, random_state = 56)"
   ]
  },
  {
   "cell_type": "code",
   "execution_count": 31,
   "id": "8fbcfcfb",
   "metadata": {},
   "outputs": [],
   "source": [
    "#importing KNN regressor and metric mse\n",
    "\n",
    "from sklearn.neighbors import KNeighborsRegressor as KNN\n",
    "from sklearn.metrics import mean_squared_error as mse\n"
   ]
  },
  {
   "cell_type": "code",
   "execution_count": 32,
   "id": "0d70e3f2",
   "metadata": {},
   "outputs": [
    {
     "name": "stdout",
     "output_type": "stream",
     "text": [
      "Test RMSE     0.8134211414258413\n"
     ]
    }
   ],
   "source": [
    "# Creating instance of KNN\n",
    "reg = KNN(n_neighbors = 5)\n",
    "\n",
    "# Fitting the model\n",
    "reg.fit(train_x, train_y)\n",
    "\n",
    "# Predicting over the Train Set and calculating RMSE\n",
    "test_predict = reg.predict(test_x)\n",
    "k = np.sqrt(mse(test_predict, test_y))\n",
    "print('Test RMSE    ', k )"
   ]
  },
  {
   "cell_type": "code",
   "execution_count": 33,
   "id": "4dadc218",
   "metadata": {},
   "outputs": [],
   "source": [
    "def Elbow(K):\n",
    "  #initiating empty list\n",
    "    test_rmse = []\n",
    "  \n",
    "  #training model for evey value of K\n",
    "    for i in K:\n",
    "        #Instance of KNN\n",
    "        reg = KNN(n_neighbors = i)\n",
    "        reg.fit(train_x, train_y)\n",
    "        #Appending rmse value to empty list claculated using the predictions\n",
    "        tmp = reg.predict(test_x)\n",
    "        tmp = np.sqrt(mse(tmp,test_y))\n",
    "        test_rmse.append(tmp)\n",
    "    \n",
    "    return test_rmse"
   ]
  },
  {
   "cell_type": "code",
   "execution_count": 34,
   "id": "bf00776a",
   "metadata": {},
   "outputs": [],
   "source": [
    "#Defining K range\n",
    "k = range(1, 50)"
   ]
  },
  {
   "cell_type": "code",
   "execution_count": 35,
   "id": "44dc05d0",
   "metadata": {},
   "outputs": [],
   "source": [
    "# calling above defined function\n",
    "test = Elbow(k)"
   ]
  },
  {
   "cell_type": "code",
   "execution_count": 36,
   "id": "80780d08",
   "metadata": {
    "scrolled": true
   },
   "outputs": [
    {
     "data": {
      "text/plain": [
       "Text(0.5, 1.0, 'Elbow Curve for test')"
      ]
     },
     "execution_count": 36,
     "metadata": {},
     "output_type": "execute_result"
    },
    {
     "data": {
      "image/png": "[encoded data removed]",
      "text/plain": [
       "<Figure size 432x288 with 1 Axes>"
      ]
     },
     "metadata": {
      "needs_background": "light"
     },
     "output_type": "display_data"
    }
   ],
   "source": [
    "# plotting the Curves\n",
    "plt.plot(k, test)\n",
    "plt.xlabel('K Neighbors')\n",
    "plt.ylabel('Test Root Mean Squared Error')\n",
    "plt.title('Elbow Curve for test')"
   ]
  },
  {
   "cell_type": "code",
   "execution_count": 37,
   "id": "54b14e80",
   "metadata": {},
   "outputs": [],
   "source": [
    "from sklearn import neighbors"
   ]
  },
  {
   "cell_type": "code",
   "execution_count": 38,
   "id": "556b2bd5",
   "metadata": {},
   "outputs": [
    {
     "name": "stdout",
     "output_type": "stream",
     "text": [
      "RMSE value for k =  1 is: 0.8260601842069976\n",
      "RMSE value for k =  2 is: 0.8177438700973491\n",
      "RMSE value for k =  3 is: 0.8153502866387002\n",
      "RMSE value for k =  4 is: 0.8123717016295008\n",
      "RMSE value for k =  5 is: 0.8134211414258413\n",
      "RMSE value for k =  6 is: 0.8127584697491657\n",
      "RMSE value for k =  7 is: 0.8111230349480781\n",
      "RMSE value for k =  8 is: 0.810989477578445\n",
      "RMSE value for k =  9 is: 0.8110314874495215\n",
      "RMSE value for k =  10 is: 0.8110790558948212\n",
      "RMSE value for k =  11 is: 0.8109475771863076\n",
      "RMSE value for k =  12 is: 0.8108894056310078\n",
      "RMSE value for k =  13 is: 0.8108363137156167\n",
      "RMSE value for k =  14 is: 0.8110644950788055\n",
      "RMSE value for k =  15 is: 0.8110147617157135\n",
      "RMSE value for k =  16 is: 0.8109964545314082\n",
      "RMSE value for k =  17 is: 0.8112588032394498\n",
      "RMSE value for k =  18 is: 0.810991626694192\n",
      "RMSE value for k =  19 is: 0.8108257851685253\n",
      "RMSE value for k =  20 is: 0.8108540211996345\n"
     ]
    }
   ],
   "source": [
    "rmse_val = [] #to store rmse values for different k\n",
    "for K in range(20):\n",
    "    K = K+1\n",
    "    model = neighbors.KNeighborsRegressor(n_neighbors = K)\n",
    "\n",
    "    model.fit(train_x, train_y)  #fit the model\n",
    "    pred=model.predict(test_x) #make prediction on test set\n",
    "    error = np.sqrt(mse(test_y,pred)) #calculate rmse\n",
    "    rmse_val.append(error) #store rmse values\n",
    "    print('RMSE value for k = ' , K , 'is:', error)"
   ]
  },
  {
   "cell_type": "code",
   "execution_count": 39,
   "id": "c81add2f",
   "metadata": {},
   "outputs": [
    {
     "name": "stdout",
     "output_type": "stream",
     "text": [
      "Test RMSE 0.8108363137156167\n"
     ]
    }
   ],
   "source": [
    "reg = KNN(n_neighbors = 13) #  Since k =13 have the least error so best value of k is 13\n",
    "\n",
    "reg.fit(train_x, train_y)\n",
    "\n",
    "test_predict = reg.predict(test_x)\n",
    "k = np.sqrt(MSE(test_predict, test_y))\n",
    "print('Test RMSE', k)"
   ]
  },
  {
   "cell_type": "code",
   "execution_count": 40,
   "id": "d15bcdcc",
   "metadata": {},
   "outputs": [
    {
     "data": {
      "text/plain": [
       "-0.02390285733937514"
      ]
     },
     "execution_count": 40,
     "metadata": {},
     "output_type": "execute_result"
    }
   ],
   "source": [
    "knn_train_score = reg.score(train_x, train_y)\n",
    "knn_train_score = knn_train_score*100\n",
    "knn_train_score"
   ]
  },
  {
   "cell_type": "code",
   "execution_count": 41,
   "id": "a7e077cd",
   "metadata": {},
   "outputs": [
    {
     "data": {
      "text/plain": [
       "0.05820073058753206"
      ]
     },
     "execution_count": 41,
     "metadata": {},
     "output_type": "execute_result"
    }
   ],
   "source": [
    "knn_test_score = reg.score(test_x, test_y)\n",
    "knn_test_score = knn_test_score*100\n",
    "knn_test_score"
   ]
  },
  {
   "cell_type": "markdown",
   "id": "21a72a6a",
   "metadata": {},
   "source": [
    "## TASK 4: Linear Regression"
   ]
  },
  {
   "cell_type": "code",
   "execution_count": 42,
   "id": "b8f6ec75",
   "metadata": {},
   "outputs": [],
   "source": [
    "#importing Linear Regression\n",
    "from sklearn.linear_model import LinearRegression as LR"
   ]
  },
  {
   "cell_type": "code",
   "execution_count": 43,
   "id": "bd063ca7",
   "metadata": {},
   "outputs": [
    {
     "data": {
      "text/plain": [
       "LinearRegression(normalize=True)"
      ]
     },
     "execution_count": 43,
     "metadata": {},
     "output_type": "execute_result"
    }
   ],
   "source": [
    "# Creating instance of Linear Regresssion\n",
    "lr = LR(normalize = True)\n",
    "\n",
    "# Fitting the model\n",
    "lr.fit(train_x, train_y)"
   ]
  },
  {
   "cell_type": "code",
   "execution_count": 44,
   "id": "c6d406c4",
   "metadata": {},
   "outputs": [
    {
     "name": "stdout",
     "output_type": "stream",
     "text": [
      "Training Root Mean Squared Error 2.910216638131225\n"
     ]
    }
   ],
   "source": [
    "# Predicting over the Train Set and calculating error\n",
    "train_predict = lr.predict(train_x)\n",
    "k = np.sqrt(mse(train_predict, train_y))\n",
    "print('Training Root Mean Squared Error', k )"
   ]
  },
  {
   "cell_type": "code",
   "execution_count": 45,
   "id": "900c6f77",
   "metadata": {},
   "outputs": [
    {
     "name": "stdout",
     "output_type": "stream",
     "text": [
      "Test Root Mean Squared Error  0.8109083118493766\n"
     ]
    }
   ],
   "source": [
    "# Predicting over the Test Set and calculating error\n",
    "test_predict = lr.predict(test_x)\n",
    "k = np.sqrt(mse(test_predict, test_y))\n",
    "print('Test Root Mean Squared Error ', k )"
   ]
  },
  {
   "cell_type": "markdown",
   "id": "bbe7fa12",
   "metadata": {},
   "source": [
    "#### Parameters of Linear Regression"
   ]
  },
  {
   "cell_type": "code",
   "execution_count": 46,
   "id": "df999fad",
   "metadata": {},
   "outputs": [
    {
     "data": {
      "text/plain": [
       "array([ 0.0290855 , -0.00440946])"
      ]
     },
     "execution_count": 46,
     "metadata": {},
     "output_type": "execute_result"
    }
   ],
   "source": [
    "lr.coef_"
   ]
  },
  {
   "cell_type": "markdown",
   "id": "f306b770",
   "metadata": {},
   "source": [
    "#### Plotting the variable coefficients"
   ]
  },
  {
   "cell_type": "code",
   "execution_count": 47,
   "id": "c5dcb938",
   "metadata": {},
   "outputs": [
    {
     "data": {
      "text/plain": [
       "Text(0.5, 1.0, 'Coefficient plot')"
      ]
     },
     "execution_count": 47,
     "metadata": {},
     "output_type": "execute_result"
    },
    {
     "data": {
      "image/png": "[encoded data removed]",
      "text/plain": [
       "<Figure size 720x480 with 1 Axes>"
      ]
     },
     "metadata": {},
     "output_type": "display_data"
    }
   ],
   "source": [
    "plt.figure(dpi=120, facecolor='w', edgecolor='b')\n",
    "x = range(len(train_x.columns))\n",
    "y = lr.coef_\n",
    "plt.bar( x, y )\n",
    "plt.xlabel( \"Variables\")\n",
    "plt.ylabel('Coefficients')\n",
    "plt.title('Coefficient plot')"
   ]
  },
  {
   "cell_type": "code",
   "execution_count": 48,
   "id": "252756b7",
   "metadata": {},
   "outputs": [
    {
     "data": {
      "text/html": [
       "<div>\n",
       "<style scoped>\n",
       "    .dataframe tbody tr th:only-of-type {\n",
       "        vertical-align: middle;\n",
       "    }\n",
       "\n",
       "    .dataframe tbody tr th {\n",
       "        vertical-align: top;\n",
       "    }\n",
       "\n",
       "    .dataframe thead th {\n",
       "        text-align: right;\n",
       "    }\n",
       "</style>\n",
       "<table border=\"1\" class=\"dataframe\">\n",
       "  <thead>\n",
       "    <tr style=\"text-align: right;\">\n",
       "      <th></th>\n",
       "      <th>fitted values</th>\n",
       "      <th>predicted values</th>\n",
       "      <th>residuals</th>\n",
       "    </tr>\n",
       "  </thead>\n",
       "  <tbody>\n",
       "    <tr>\n",
       "      <th>10762</th>\n",
       "      <td>0.392222</td>\n",
       "      <td>0.261082</td>\n",
       "      <td>0.131140</td>\n",
       "    </tr>\n",
       "    <tr>\n",
       "      <th>47278</th>\n",
       "      <td>0.157222</td>\n",
       "      <td>0.261082</td>\n",
       "      <td>-0.103860</td>\n",
       "    </tr>\n",
       "    <tr>\n",
       "      <th>14909</th>\n",
       "      <td>0.426944</td>\n",
       "      <td>0.261082</td>\n",
       "      <td>0.165863</td>\n",
       "    </tr>\n",
       "    <tr>\n",
       "      <th>13607</th>\n",
       "      <td>0.122500</td>\n",
       "      <td>0.291637</td>\n",
       "      <td>-0.169137</td>\n",
       "    </tr>\n",
       "    <tr>\n",
       "      <th>12336</th>\n",
       "      <td>0.231944</td>\n",
       "      <td>0.262552</td>\n",
       "      <td>-0.030607</td>\n",
       "    </tr>\n",
       "  </tbody>\n",
       "</table>\n",
       "</div>"
      ],
      "text/plain": [
       "       fitted values  predicted values  residuals\n",
       "10762       0.392222          0.261082   0.131140\n",
       "47278       0.157222          0.261082  -0.103860\n",
       "14909       0.426944          0.261082   0.165863\n",
       "13607       0.122500          0.291637  -0.169137\n",
       "12336       0.231944          0.262552  -0.030607"
      ]
     },
     "execution_count": 48,
     "metadata": {},
     "output_type": "execute_result"
    }
   ],
   "source": [
    "# Arranging and calculating the Residuals\n",
    "residuals = pd.DataFrame({\n",
    "    'fitted values' : test_y,\n",
    "    'predicted values' : test_predict,\n",
    "})\n",
    "\n",
    "residuals['residuals'] = residuals['fitted values'] - residuals['predicted values']\n",
    "residuals.head()"
   ]
  },
  {
   "cell_type": "code",
   "execution_count": 49,
   "id": "c9e40ac1",
   "metadata": {},
   "outputs": [
    {
     "data": {
      "image/png": "[encoded data removed]",
      "text/plain": [
       "<Figure size 720x480 with 1 Axes>"
      ]
     },
     "metadata": {},
     "output_type": "display_data"
    }
   ],
   "source": [
    "# Histogram for distribution\n",
    "plt.figure(dpi=120, facecolor='w', edgecolor='b')\n",
    "plt.hist(residuals.residuals, bins = 150)\n",
    "plt.xlabel('Error')\n",
    "plt.ylabel('Frequency')\n",
    "plt.title('Distribution of Error Terms')\n",
    "plt.show()"
   ]
  },
  {
   "cell_type": "code",
   "execution_count": 50,
   "id": "9e2ed491",
   "metadata": {},
   "outputs": [
    {
     "data": {
      "image/png": "[encoded data removed]",
      "text/plain": [
       "<Figure size 720x480 with 1 Axes>"
      ]
     },
     "metadata": {
      "needs_background": "light"
     },
     "output_type": "display_data"
    }
   ],
   "source": [
    "from statsmodels.graphics.gofplots import qqplot  # importing the QQ-plot from the from the statsmodels\n",
    "\n",
    "fig, ax = plt.subplots(dpi = 120)  ## Plotting the QQ plot\n",
    "qqplot(residuals.residuals, line = 's' , ax = ax)\n",
    "plt.ylabel('Residual Quantiles')\n",
    "plt.xlabel('Ideal Scaled Quantiles')\n",
    "plt.title('Checking distribution of Residual Errors')\n",
    "plt.show()"
   ]
  },
  {
   "cell_type": "code",
   "execution_count": 51,
   "id": "10ded5c2",
   "metadata": {},
   "outputs": [
    {
     "data": {
      "text/plain": [
       "0.0024003865604971253"
      ]
     },
     "execution_count": 51,
     "metadata": {},
     "output_type": "execute_result"
    }
   ],
   "source": [
    "linear_train_score = lr.score(train_x, train_y)\n",
    "linear_train_score = linear_train_score*100\n",
    "linear_train_score"
   ]
  },
  {
   "cell_type": "code",
   "execution_count": 52,
   "id": "45d8be58",
   "metadata": {},
   "outputs": [
    {
     "data": {
      "text/plain": [
       "0.04045129737241249"
      ]
     },
     "execution_count": 52,
     "metadata": {},
     "output_type": "execute_result"
    }
   ],
   "source": [
    "linear_test_score = lr.score(test_x, test_y)\n",
    "linear_test_score = linear_test_score*100\n",
    "linear_test_score"
   ]
  },
  {
   "cell_type": "markdown",
   "id": "7d0a21bf",
   "metadata": {},
   "source": [
    "# TASK 5: Plotting Bar Plot"
   ]
  },
  {
   "cell_type": "markdown",
   "id": "d388cf43",
   "metadata": {},
   "source": [
    "#### -Train score of all the above models."
   ]
  },
  {
   "cell_type": "code",
   "execution_count": 53,
   "id": "b313efae",
   "metadata": {},
   "outputs": [
    {
     "data": {
      "text/plain": [
       "(-0.02390285733937514, 0.0024003865604971253)"
      ]
     },
     "execution_count": 53,
     "metadata": {},
     "output_type": "execute_result"
    }
   ],
   "source": [
    "knn_train_score, linear_train_score"
   ]
  },
  {
   "cell_type": "code",
   "execution_count": 54,
   "id": "1fb19386",
   "metadata": {},
   "outputs": [],
   "source": [
    "from pandas import DataFrame\n",
    "\n",
    "data = pd.DataFrame(data)"
   ]
  },
  {
   "cell_type": "code",
   "execution_count": 55,
   "id": "b2bf243e",
   "metadata": {},
   "outputs": [
    {
     "data": {
      "text/html": [
       "<div>\n",
       "<style scoped>\n",
       "    .dataframe tbody tr th:only-of-type {\n",
       "        vertical-align: middle;\n",
       "    }\n",
       "\n",
       "    .dataframe tbody tr th {\n",
       "        vertical-align: top;\n",
       "    }\n",
       "\n",
       "    .dataframe thead th {\n",
       "        text-align: right;\n",
       "    }\n",
       "</style>\n",
       "<table border=\"1\" class=\"dataframe\">\n",
       "  <thead>\n",
       "    <tr style=\"text-align: right;\">\n",
       "      <th></th>\n",
       "      <th>Train score</th>\n",
       "      <th>Test core</th>\n",
       "    </tr>\n",
       "  </thead>\n",
       "  <tbody>\n",
       "    <tr>\n",
       "      <th>KNN</th>\n",
       "      <td>-0.023903</td>\n",
       "      <td>0.058201</td>\n",
       "    </tr>\n",
       "    <tr>\n",
       "      <th>LR</th>\n",
       "      <td>0.002400</td>\n",
       "      <td>0.040451</td>\n",
       "    </tr>\n",
       "  </tbody>\n",
       "</table>\n",
       "</div>"
      ],
      "text/plain": [
       "     Train score  Test core\n",
       "KNN    -0.023903   0.058201\n",
       "LR      0.002400   0.040451"
      ]
     },
     "execution_count": 55,
     "metadata": {},
     "output_type": "execute_result"
    }
   ],
   "source": [
    "train_score= [knn_train_score, linear_train_score]\n",
    "test_score=[knn_test_score, linear_test_score,]\n",
    "\n",
    "col={'Train score':train_score,'Test core':test_score}\n",
    "models=['KNN','LR']\n",
    "df=DataFrame(data=col,index=models)\n",
    "df"
   ]
  },
  {
   "cell_type": "code",
   "execution_count": 56,
   "id": "1f17fb88",
   "metadata": {},
   "outputs": [
    {
     "data": {
      "text/plain": [
       "<AxesSubplot:>"
      ]
     },
     "execution_count": 56,
     "metadata": {},
     "output_type": "execute_result"
    },
    {
     "data": {
      "image/png": "[encoded data removed]",
      "text/plain": [
       "<Figure size 432x288 with 1 Axes>"
      ]
     },
     "metadata": {
      "needs_background": "light"
     },
     "output_type": "display_data"
    }
   ],
   "source": [
    "df.plot(kind='bar')"
   ]
  },
  {
   "cell_type": "markdown",
   "id": "f939269d",
   "metadata": {},
   "source": [
    "#### -Test (not validation!) score of all the above models."
   ]
  },
  {
   "cell_type": "code",
   "execution_count": 57,
   "id": "dd94b8ff",
   "metadata": {},
   "outputs": [
    {
     "data": {
      "text/plain": [
       "(0.05820073058753206,\n",
       " 0.04045129737241249,\n",
       " 0.8215135411141647,\n",
       " 0.8608422627335721,\n",
       " 0.8608422627335721)"
      ]
     },
     "execution_count": 57,
     "metadata": {},
     "output_type": "execute_result"
    }
   ],
   "source": [
    "knn_test_score, linear_test_score, simple_mean_error, p_count_error, super_mean_error"
   ]
  },
  {
   "cell_type": "code",
   "execution_count": 58,
   "id": "c0068584",
   "metadata": {},
   "outputs": [],
   "source": [
    "x2 = ['KNN', 'LR', 'SimpleME', 'PassengerME', 'SuperME']\n",
    "y2 = [0.05820073058753206,0.04045129737241249,0.8215135411141647,0.8608422627335721,0.8608422627335721]"
   ]
  },
  {
   "cell_type": "code",
   "execution_count": 59,
   "id": "f471790f",
   "metadata": {
    "scrolled": false
   },
   "outputs": [
    {
     "data": {
      "image/png": "[encoded data removed]",
      "text/plain": [
       "<Figure size 600x400 with 1 Axes>"
      ]
     },
     "metadata": {
      "needs_background": "light"
     },
     "output_type": "display_data"
    }
   ],
   "source": [
    "plt.figure(dpi = 100)\n",
    "plt.bar(x2, y2)\n",
    "plt.xlabel(\"Models\")\n",
    "plt.ylabel(\"test scores\")\n",
    "plt.show()"
   ]
  },
  {
   "cell_type": "markdown",
   "id": "b36117cf",
   "metadata": {},
   "source": [
    "From the above test scores I observe that Linear Model and KNN (when k=13) is performed better than other models.\n",
    "I would prefer Linear Model for this dataset because it's test score is lesser than KNN."
   ]
  }
 ],
 "metadata": {
  "kernelspec": {
   "display_name": "Python 3",
   "language": "python",
   "name": "python3"
  },
  "language_info": {
   "codemirror_mode": {
    "name": "ipython",
    "version": 3
   },
   "file_extension": ".py",
   "mimetype": "text/x-python",
   "name": "python",
   "nbconvert_exporter": "python",
   "pygments_lexer": "ipython3",
   "version": "3.8.8"
  }
 },
 "nbformat": 4,
 "nbformat_minor": 5
}
